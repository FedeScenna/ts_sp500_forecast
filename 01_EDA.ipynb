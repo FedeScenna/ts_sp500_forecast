{
 "cells": [
  {
   "cell_type": "code",
   "execution_count": 1,
   "id": "ce878bfe",
   "metadata": {},
   "outputs": [],
   "source": [
    "import pandas as pd"
   ]
  },
  {
   "cell_type": "code",
   "execution_count": 4,
   "id": "d31edaff",
   "metadata": {},
   "outputs": [],
   "source": [
    "df = pd.read_csv(\"data/price_data.csv\", usecols = [\"date\",\"ticker\",\"close\"])"
   ]
  },
  {
   "cell_type": "code",
   "execution_count": 5,
   "id": "197e9b72",
   "metadata": {},
   "outputs": [
    {
     "data": {
      "text/html": [
       "<div>\n",
       "<style scoped>\n",
       "    .dataframe tbody tr th:only-of-type {\n",
       "        vertical-align: middle;\n",
       "    }\n",
       "\n",
       "    .dataframe tbody tr th {\n",
       "        vertical-align: top;\n",
       "    }\n",
       "\n",
       "    .dataframe thead th {\n",
       "        text-align: right;\n",
       "    }\n",
       "</style>\n",
       "<table border=\"1\" class=\"dataframe\">\n",
       "  <thead>\n",
       "    <tr style=\"text-align: right;\">\n",
       "      <th></th>\n",
       "      <th>date</th>\n",
       "      <th>ticker</th>\n",
       "      <th>close</th>\n",
       "    </tr>\n",
       "  </thead>\n",
       "  <tbody>\n",
       "    <tr>\n",
       "      <th>1045141</th>\n",
       "      <td>2025-07-18</td>\n",
       "      <td>ACN</td>\n",
       "      <td>282.440002</td>\n",
       "    </tr>\n",
       "    <tr>\n",
       "      <th>1044645</th>\n",
       "      <td>2025-07-17</td>\n",
       "      <td>ACN</td>\n",
       "      <td>282.700012</td>\n",
       "    </tr>\n",
       "    <tr>\n",
       "      <th>1044149</th>\n",
       "      <td>2025-07-16</td>\n",
       "      <td>ACN</td>\n",
       "      <td>279.670013</td>\n",
       "    </tr>\n",
       "    <tr>\n",
       "      <th>1043653</th>\n",
       "      <td>2025-07-15</td>\n",
       "      <td>ACN</td>\n",
       "      <td>276.070007</td>\n",
       "    </tr>\n",
       "    <tr>\n",
       "      <th>1043157</th>\n",
       "      <td>2025-07-14</td>\n",
       "      <td>ACN</td>\n",
       "      <td>279.989990</td>\n",
       "    </tr>\n",
       "    <tr>\n",
       "      <th>...</th>\n",
       "      <td>...</td>\n",
       "      <td>...</td>\n",
       "      <td>...</td>\n",
       "    </tr>\n",
       "    <tr>\n",
       "      <th>1889</th>\n",
       "      <td>2017-01-09</td>\n",
       "      <td>ACN</td>\n",
       "      <td>100.674614</td>\n",
       "    </tr>\n",
       "    <tr>\n",
       "      <th>1418</th>\n",
       "      <td>2017-01-06</td>\n",
       "      <td>ACN</td>\n",
       "      <td>101.812698</td>\n",
       "    </tr>\n",
       "    <tr>\n",
       "      <th>947</th>\n",
       "      <td>2017-01-05</td>\n",
       "      <td>ACN</td>\n",
       "      <td>100.665894</td>\n",
       "    </tr>\n",
       "    <tr>\n",
       "      <th>476</th>\n",
       "      <td>2017-01-04</td>\n",
       "      <td>ACN</td>\n",
       "      <td>102.197891</td>\n",
       "    </tr>\n",
       "    <tr>\n",
       "      <th>5</th>\n",
       "      <td>2017-01-03</td>\n",
       "      <td>ACN</td>\n",
       "      <td>101.952751</td>\n",
       "    </tr>\n",
       "  </tbody>\n",
       "</table>\n",
       "<p>2147 rows × 3 columns</p>\n",
       "</div>"
      ],
      "text/plain": [
       "               date ticker       close\n",
       "1045141  2025-07-18    ACN  282.440002\n",
       "1044645  2025-07-17    ACN  282.700012\n",
       "1044149  2025-07-16    ACN  279.670013\n",
       "1043653  2025-07-15    ACN  276.070007\n",
       "1043157  2025-07-14    ACN  279.989990\n",
       "...             ...    ...         ...\n",
       "1889     2017-01-09    ACN  100.674614\n",
       "1418     2017-01-06    ACN  101.812698\n",
       "947      2017-01-05    ACN  100.665894\n",
       "476      2017-01-04    ACN  102.197891\n",
       "5        2017-01-03    ACN  101.952751\n",
       "\n",
       "[2147 rows x 3 columns]"
      ]
     },
     "execution_count": 5,
     "metadata": {},
     "output_type": "execute_result"
    }
   ],
   "source": [
    "df[df[\"ticker\"] == \"ACN\"].sort_values(by=\"date\", ascending=False)"
   ]
  },
  {
   "cell_type": "code",
   "execution_count": null,
   "id": "bbebce93",
   "metadata": {},
   "outputs": [],
   "source": []
  }
 ],
 "metadata": {
  "kernelspec": {
   "display_name": "llm",
   "language": "python",
   "name": "python3"
  },
  "language_info": {
   "codemirror_mode": {
    "name": "ipython",
    "version": 3
   },
   "file_extension": ".py",
   "mimetype": "text/x-python",
   "name": "python",
   "nbconvert_exporter": "python",
   "pygments_lexer": "ipython3",
   "version": "3.9.21"
  }
 },
 "nbformat": 4,
 "nbformat_minor": 5
}
